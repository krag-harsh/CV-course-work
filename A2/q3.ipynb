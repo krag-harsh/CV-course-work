{
  "nbformat": 4,
  "nbformat_minor": 0,
  "metadata": {
    "colab": {
      "name": "2019423_q3.ipynb",
      "provenance": [],
      "collapsed_sections": []
    },
    "kernelspec": {
      "name": "python3",
      "display_name": "Python 3"
    },
    "language_info": {
      "name": "python"
    }
  },
  "cells": [
    {
      "cell_type": "code",
      "execution_count": 1,
      "metadata": {
        "id": "s57KaVTpO1ak",
        "colab": {
          "base_uri": "https://localhost:8080/"
        },
        "outputId": "23f7bcde-bcaa-4a51-a688-6566a0546148"
      },
      "outputs": [
        {
          "output_type": "stream",
          "name": "stdout",
          "text": [
            "Archive:  dd.zip\n",
            "   creating: dd/\n",
            "  inflating: dd/15_10_s.jpg          \n",
            "  inflating: dd/15_11_s.jpg          \n",
            "  inflating: dd/15_12_s.jpg          \n",
            "  inflating: dd/15_13_s.jpg          \n",
            "  inflating: dd/15_14_s.jpg          \n",
            "  inflating: dd/15_15_s.jpg          \n",
            "  inflating: dd/15_16_s.jpg          \n",
            "  inflating: dd/15_17_s.jpg          \n",
            "  inflating: dd/15_18_s.jpg          \n",
            "  inflating: dd/15_1_s.jpg           \n",
            "  inflating: dd/15_20_s.jpg          \n",
            "  inflating: dd/15_21_s.jpg          \n",
            "  inflating: dd/15_22_s.jpg          \n",
            "  inflating: dd/15_23_s.jpg          \n",
            "  inflating: dd/15_24_s.jpg          \n",
            "  inflating: dd/15_2_s.jpg           \n",
            "  inflating: dd/15_3_s.jpg           \n",
            "  inflating: dd/15_4_s.jpg           \n",
            "  inflating: dd/15_5_s.jpg           \n",
            "  inflating: dd/15_6_s.jpg           \n",
            "  inflating: dd/15_7_s.jpg           \n",
            "  inflating: dd/15_8_s.jpg           \n",
            "  inflating: dd/15_9_s.jpg           \n",
            "  inflating: dd/16_10_s.jpg          \n",
            "  inflating: dd/16_11_s.jpg          \n",
            "  inflating: dd/16_12_s.jpg          \n",
            "  inflating: dd/16_13_s.jpg          \n",
            "  inflating: dd/16_14_s.jpg          \n",
            "  inflating: dd/16_15_s.jpg          \n",
            "  inflating: dd/16_16_s.jpg          \n",
            "  inflating: dd/16_17_s.jpg          \n",
            "  inflating: dd/16_18_s.jpg          \n",
            "  inflating: dd/16_19_s.jpg          \n",
            "  inflating: dd/16_1_s.jpg           \n",
            "  inflating: dd/16_20_s.jpg          \n",
            "  inflating: dd/16_21_s.jpg          \n",
            "  inflating: dd/16_23_s.jpg          \n",
            "  inflating: dd/16_24_s.jpg          \n",
            "  inflating: dd/16_25_s.jpg          \n",
            "  inflating: dd/16_28_s.jpg          \n",
            "  inflating: dd/16_29_s.jpg          \n",
            "  inflating: dd/16_2_s.jpg           \n",
            "  inflating: dd/16_30_s.jpg          \n",
            "  inflating: dd/16_3_s.jpg           \n",
            "  inflating: dd/16_4_s.jpg           \n",
            "  inflating: dd/16_5_s.jpg           \n",
            "  inflating: dd/16_6_s.jpg           \n",
            "  inflating: dd/16_7_s.jpg           \n",
            "  inflating: dd/16_8_s.jpg           \n",
            "  inflating: dd/16_9_s.jpg           \n"
          ]
        }
      ],
      "source": [
        "# !unzip dd.zip"
      ]
    },
    {
      "cell_type": "code",
      "source": [
        "import cv2\n",
        "import os \n",
        "import numpy as np\n",
        "from skimage import feature\n",
        "from skimage.transform import resize\n",
        "import matplotlib.pyplot as plt\n",
        "from sklearn.cluster import KMeans\n",
        "\n",
        "\n",
        "# dir_images = \"dd/\"\n",
        "dir_images=input(\"Enter path to the directory: \")\n",
        "imgs = os.listdir(dir_images)\n"
      ],
      "metadata": {
        "id": "aIC9J1s2RbV2",
        "colab": {
          "base_uri": "https://localhost:8080/"
        },
        "outputId": "dce104a1-fe0b-4811-9f99-1e62c1ffcb92"
      },
      "execution_count": 18,
      "outputs": [
        {
          "name": "stdout",
          "output_type": "stream",
          "text": [
            "Enter path to the directory: dd/\n"
          ]
        }
      ]
    },
    {
      "cell_type": "code",
      "source": [
        "def featu(im):    # function to read and get the hog features\n",
        "  img = cv2.imread(im)  # reading the image\n",
        "  img = cv2.cvtColor(img,cv2.COLOR_BGR2GRAY)\n",
        "  img = resize(img, (200, 230))  # resizing so that the number of features is same for every image\n",
        "  fd = feature.hog(img)  # getting the hog features\n",
        "  return fd  \n"
      ],
      "metadata": {
        "id": "ef3VqxQtyuBL"
      },
      "execution_count": 19,
      "outputs": []
    },
    {
      "cell_type": "code",
      "source": [
        "# k=20  # taking k=20(random)\n",
        "k=int(input(\"enter the number of words to be used: \"))\n",
        "finallist=[]\n",
        "for im in imgs:\n",
        "  fd=featu(dir_images+im)\n",
        "  finallist.append(fd)\n",
        "finallist=np.array(finallist)\n",
        "fflist=finallist.reshape(-1,1)"
      ],
      "metadata": {
        "id": "_NYB-JpkRlks",
        "colab": {
          "base_uri": "https://localhost:8080/"
        },
        "outputId": "6af3f5c1-04ae-45c5-fbed-91fb9f506f64"
      },
      "execution_count": 22,
      "outputs": [
        {
          "name": "stdout",
          "output_type": "stream",
          "text": [
            "enter the number of words to be used: 20\n"
          ]
        }
      ]
    },
    {
      "cell_type": "code",
      "source": [
        "kmeans = KMeans(n_clusters=k)\n",
        "kmeans.fit(fflist)  # fitting the features"
      ],
      "metadata": {
        "colab": {
          "base_uri": "https://localhost:8080/"
        },
        "id": "lu0_QzpSVmE1",
        "outputId": "c417d8b6-28d3-4942-8909-e5603da05c7e"
      },
      "execution_count": 23,
      "outputs": [
        {
          "output_type": "execute_result",
          "data": {
            "text/plain": [
              "KMeans(n_clusters=20)"
            ]
          },
          "metadata": {},
          "execution_count": 23
        }
      ]
    },
    {
      "cell_type": "code",
      "source": [
        "def getfeatures(path, kmeans):  # function to get the feature vector\n",
        "  print(path)\n",
        "  f=featu(path)  # get the features of the image\n",
        "  p=kmeans.predict(f.reshape(-1,1))  # reshape and get which cluster each feature belong to \n",
        "  im_level_f=[0]*k\n",
        "  for f in p:  # count number of feature for each cluster\n",
        "    im_level_f[f]+=1\n",
        "  return im_level_f"
      ],
      "metadata": {
        "id": "Xr9eJTU0XfbW"
      },
      "execution_count": 24,
      "outputs": []
    },
    {
      "cell_type": "code",
      "source": [
        "path=input(\"Enter the path to the image: \")\n",
        "print(path)\n",
        "print(getfeatures(path,kmeans))"
      ],
      "metadata": {
        "colab": {
          "base_uri": "https://localhost:8080/"
        },
        "id": "LsZDLYAHX5KA",
        "outputId": "9bf8fcf4-f036-4c15-e960-2e1c5be80fae"
      },
      "execution_count": 25,
      "outputs": [
        {
          "output_type": "stream",
          "name": "stdout",
          "text": [
            "Enter the path to the image: /content/15_19_s.jpg\n",
            "/content/15_19_s.jpg\n",
            "/content/15_19_s.jpg\n",
            "[3663, 1582, 4474, 2348, 441, 1766, 4289, 3077, 1152, 4287, 1771, 12, 116, 3462, 2105, 2665, 1824, 1371, 3893, 4140]\n"
          ]
        }
      ]
    },
    {
      "cell_type": "code",
      "source": [
        ""
      ],
      "metadata": {
        "id": "iGNbUUJKZ5Xg"
      },
      "execution_count": null,
      "outputs": []
    }
  ]
}