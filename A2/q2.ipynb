{
  "nbformat": 4,
  "nbformat_minor": 0,
  "metadata": {
    "colab": {
      "name": "Q2.ipynb",
      "provenance": [],
      "collapsed_sections": []
    },
    "kernelspec": {
      "name": "python3",
      "display_name": "Python 3"
    },
    "language_info": {
      "name": "python"
    }
  },
  "cells": [
    {
      "cell_type": "code",
      "source": [
        "!unzip dd.zip"
      ],
      "metadata": {
        "id": "U5kc7LspxGrW",
        "colab": {
          "base_uri": "https://localhost:8080/"
        },
        "outputId": "af0673f8-1915-4c81-ac87-ab877c607449"
      },
      "execution_count": 1,
      "outputs": [
        {
          "output_type": "stream",
          "name": "stdout",
          "text": [
            "Archive:  dd.zip\n",
            "   creating: dd/\n",
            "  inflating: dd/15_10_s.jpg          \n",
            "  inflating: dd/15_11_s.jpg          \n",
            "  inflating: dd/15_12_s.jpg          \n",
            "  inflating: dd/15_13_s.jpg          \n",
            "  inflating: dd/15_14_s.jpg          \n",
            "  inflating: dd/15_15_s.jpg          \n",
            "  inflating: dd/15_16_s.jpg          \n",
            "  inflating: dd/15_17_s.jpg          \n",
            "  inflating: dd/15_18_s.jpg          \n",
            "  inflating: dd/15_1_s.jpg           \n",
            "  inflating: dd/15_20_s.jpg          \n",
            "  inflating: dd/15_21_s.jpg          \n",
            "  inflating: dd/15_22_s.jpg          \n",
            "  inflating: dd/15_23_s.jpg          \n",
            "  inflating: dd/15_24_s.jpg          \n",
            "  inflating: dd/15_2_s.jpg           \n",
            "  inflating: dd/15_3_s.jpg           \n",
            "  inflating: dd/15_4_s.jpg           \n",
            "  inflating: dd/15_5_s.jpg           \n",
            "  inflating: dd/15_6_s.jpg           \n",
            "  inflating: dd/15_7_s.jpg           \n",
            "  inflating: dd/15_8_s.jpg           \n",
            "  inflating: dd/15_9_s.jpg           \n",
            "  inflating: dd/16_10_s.jpg          \n",
            "  inflating: dd/16_11_s.jpg          \n",
            "  inflating: dd/16_12_s.jpg          \n",
            "  inflating: dd/16_13_s.jpg          \n",
            "  inflating: dd/16_14_s.jpg          \n",
            "  inflating: dd/16_15_s.jpg          \n",
            "  inflating: dd/16_16_s.jpg          \n",
            "  inflating: dd/16_17_s.jpg          \n",
            "  inflating: dd/16_18_s.jpg          \n",
            "  inflating: dd/16_19_s.jpg          \n",
            "  inflating: dd/16_1_s.jpg           \n",
            "  inflating: dd/16_20_s.jpg          \n",
            "  inflating: dd/16_21_s.jpg          \n",
            "  inflating: dd/16_23_s.jpg          \n",
            "  inflating: dd/16_24_s.jpg          \n",
            "  inflating: dd/16_25_s.jpg          \n",
            "  inflating: dd/16_28_s.jpg          \n",
            "  inflating: dd/16_29_s.jpg          \n",
            "  inflating: dd/16_2_s.jpg           \n",
            "  inflating: dd/16_30_s.jpg          \n",
            "  inflating: dd/16_3_s.jpg           \n",
            "  inflating: dd/16_4_s.jpg           \n",
            "  inflating: dd/16_5_s.jpg           \n",
            "  inflating: dd/16_6_s.jpg           \n",
            "  inflating: dd/16_7_s.jpg           \n",
            "  inflating: dd/16_8_s.jpg           \n",
            "  inflating: dd/16_9_s.jpg           \n"
          ]
        }
      ]
    },
    {
      "cell_type": "code",
      "source": [
        "!pip install fuzzy-c-means"
      ],
      "metadata": {
        "id": "NI0dSqIB6jKZ",
        "colab": {
          "base_uri": "https://localhost:8080/"
        },
        "outputId": "c6c88096-ffa1-44f4-dd8b-901cbd955c7a"
      },
      "execution_count": 2,
      "outputs": [
        {
          "output_type": "stream",
          "name": "stdout",
          "text": [
            "Collecting fuzzy-c-means\n",
            "  Downloading fuzzy_c_means-1.6.3-py3-none-any.whl (9.1 kB)\n",
            "Requirement already satisfied: numpy<2.0.0,>=1.21.1 in /usr/local/lib/python3.7/dist-packages (from fuzzy-c-means) (1.21.5)\n",
            "Collecting pydantic<2.0.0,>=1.8.2\n",
            "  Downloading pydantic-1.9.0-cp37-cp37m-manylinux_2_17_x86_64.manylinux2014_x86_64.whl (10.9 MB)\n",
            "\u001b[K     |████████████████████████████████| 10.9 MB 7.8 MB/s \n",
            "\u001b[?25hCollecting typer<0.4.0,>=0.3.2\n",
            "  Downloading typer-0.3.2-py3-none-any.whl (21 kB)\n",
            "Requirement already satisfied: tabulate<0.9.0,>=0.8.9 in /usr/local/lib/python3.7/dist-packages (from fuzzy-c-means) (0.8.9)\n",
            "Requirement already satisfied: typing-extensions>=3.7.4.3 in /usr/local/lib/python3.7/dist-packages (from pydantic<2.0.0,>=1.8.2->fuzzy-c-means) (3.10.0.2)\n",
            "Requirement already satisfied: click<7.2.0,>=7.1.1 in /usr/local/lib/python3.7/dist-packages (from typer<0.4.0,>=0.3.2->fuzzy-c-means) (7.1.2)\n",
            "Installing collected packages: typer, pydantic, fuzzy-c-means\n",
            "Successfully installed fuzzy-c-means-1.6.3 pydantic-1.9.0 typer-0.3.2\n"
          ]
        }
      ]
    },
    {
      "cell_type": "code",
      "execution_count": 14,
      "metadata": {
        "id": "izi-apPEvHCW"
      },
      "outputs": [],
      "source": [
        "import cv2\n",
        "import os \n",
        "import numpy as np\n",
        "import matplotlib.pyplot as plt\n",
        "import shutil\n",
        "from skimage.transform import resize\n",
        "from fcmeans import FCM\n",
        "\n",
        "# after unzipping dd.zip, folder is formed named dd which contained all images\n",
        "# chnage address for new folder and run the code\n",
        "dir_images = \"dd/\"\n",
        "imgs = os.listdir(dir_images)"
      ]
    },
    {
      "cell_type": "code",
      "source": [
        "#function to get lbp\n",
        "def lbpfn(img):\n",
        "  lbim=np.zeros_like(img)\n",
        "  for i in range(0,126):  # 128-3+1=126\n",
        "    for j in range(0,126):\n",
        "      im=img[i:i+3, j:j+3]  # taing 3X3 patches of images\n",
        "      c=im[1][1]\n",
        "      im=im.T.flatten()  # flattern it\n",
        "      d=[]\n",
        "      for a in im:\n",
        "        if(a<c):\n",
        "          d.append(a/c)\n",
        "        else:\n",
        "          d.append(c/a)\n",
        "      d=np.delete(np.round(np.array(d)),4)  # delete the center pixel value\n",
        "      lo=np.where(d)[0]\n",
        "      if(len(lo)>0):\n",
        "        n=np.sum(2**lo)  # converting to decimal value\n",
        "      else:\n",
        "        n=0\n",
        "      lbim[i+1,j+1]=n  # putting the pixel value as the decimal value got\n",
        "      # break\n",
        "  return lbim"
      ],
      "metadata": {
        "id": "t9CW0t2iHGb_"
      },
      "execution_count": 15,
      "outputs": []
    },
    {
      "cell_type": "code",
      "source": [
        "def spp(lbimg):  # fucntion to get the spp from lbp image\n",
        "  # taking slices and concatinating the histograms\n",
        "  d1=[]\n",
        "  for i in range(0,128,32):\n",
        "    for j in range(0,128,32):\n",
        "      c=lbimg[i:i+32, j:j+32]\n",
        "      vlbimg = c.flatten()\n",
        "      hist,bins=np.histogram(vlbimg,bins=25,range=(0,255))  # taking bins =25\n",
        "      d1.append(hist)\n",
        "  for i in range(0,128,64):\n",
        "    for j in range(0,128,64):\n",
        "      c=lbimg[i:i+64, j:j+64]\n",
        "      vlbimg = c.flatten()\n",
        "      hist,bins=np.histogram(vlbimg,bins=25,range=(0,255))\n",
        "      d1.append(hist)\n",
        "  vlbimg = lbimg.flatten()\n",
        "  hist,bins=np.histogram(vlbimg,bins=25,range=(0,255))\n",
        "  d1.append(hist)  \n",
        "  return d1\n"
      ],
      "metadata": {
        "id": "OpzkJImSDAq6"
      },
      "execution_count": 16,
      "outputs": []
    },
    {
      "cell_type": "code",
      "source": [
        "k=int(input(\"Enter number of cluster \"))\n",
        "# k=4\n",
        "arrayofsp=[]\n",
        "for im in imgs:\n",
        "  img = cv2.imread(dir_images+im)\n",
        "  img = cv2.cvtColor(img,cv2.COLOR_BGR2GRAY)\n",
        "  img = resize(img, (128, 128))\n",
        "  lbimg=lbpfn(img)\n",
        "  sp=spp(lbimg)\n",
        "  # flat it then make kmeans\n",
        "  arrayofsp.append(np.reshape(sp,-1))\n",
        "a=np.array(arrayofsp)"
      ],
      "metadata": {
        "colab": {
          "base_uri": "https://localhost:8080/"
        },
        "id": "pmOUHtvnxDjo",
        "outputId": "e3e63b15-98e4-4dab-c88a-9eb694f3b162"
      },
      "execution_count": 17,
      "outputs": [
        {
          "name": "stdout",
          "output_type": "stream",
          "text": [
            "Enter number of cluster4\n"
          ]
        },
        {
          "output_type": "stream",
          "name": "stderr",
          "text": [
            "/usr/local/lib/python3.7/dist-packages/ipykernel_launcher.py:14: RuntimeWarning: invalid value encountered in double_scalars\n",
            "  \n"
          ]
        }
      ]
    },
    {
      "cell_type": "code",
      "source": [
        "# creating cluster from the extracted features\n",
        "fcm = FCM(n_clusters=k) \n",
        "fcm.fit(a)\n",
        "fcm_centers = fcm.centers\n",
        "fcm_labels = fcm.predict(a)"
      ],
      "metadata": {
        "id": "_IwIxvGP7LGP"
      },
      "execution_count": 19,
      "outputs": []
    },
    {
      "cell_type": "code",
      "source": [
        "# code to create output folder\n",
        "parent=\"folder/\"\n",
        "os.mkdir(parent)"
      ],
      "metadata": {
        "id": "K652NJ9_8Tge"
      },
      "execution_count": 20,
      "outputs": []
    },
    {
      "cell_type": "code",
      "source": [
        "for na in range(1,k+1):\n",
        "  fna=parent+\"Cluster\"+str(na)\n",
        "  os.mkdir(fna)"
      ],
      "metadata": {
        "id": "7AIT3E0S97Y2"
      },
      "execution_count": 21,
      "outputs": []
    },
    {
      "cell_type": "code",
      "source": [
        "for i,label in enumerate(fcm_labels):\n",
        "  imname=imgs[i]\n",
        "  fromcp=dir_images+imname\n",
        "  label=label+1\n",
        "  tocp=parent+\"Cluster\"+str(label)+\"/\"\n",
        "  shutil.copy(fromcp, tocp)\n"
      ],
      "metadata": {
        "id": "419QVnOa-OjN"
      },
      "execution_count": 22,
      "outputs": []
    },
    {
      "cell_type": "code",
      "source": [
        "# zipping the folder created"
      ],
      "metadata": {
        "id": "fFPOM-nixY3E"
      },
      "execution_count": 23,
      "outputs": []
    },
    {
      "cell_type": "code",
      "source": [
        "!zip -r final.zip folder"
      ],
      "metadata": {
        "id": "TTxgb-dj-7Tg",
        "colab": {
          "base_uri": "https://localhost:8080/"
        },
        "outputId": "1bb27bf8-5842-4d4d-a09e-e24e781deb45"
      },
      "execution_count": 24,
      "outputs": [
        {
          "output_type": "stream",
          "name": "stdout",
          "text": [
            "updating: folder/ (stored 0%)\n",
            "updating: folder/Cluster3/ (stored 0%)\n",
            "updating: folder/Cluster1/ (stored 0%)\n",
            "updating: folder/Cluster4/ (stored 0%)\n",
            "updating: folder/Cluster4/15_22_s.jpg (deflated 1%)\n",
            "updating: folder/Cluster4/15_20_s.jpg (deflated 1%)\n",
            "updating: folder/Cluster4/16_30_s.jpg (deflated 1%)\n",
            "updating: folder/Cluster4/15_1_s.jpg (deflated 1%)\n",
            "updating: folder/Cluster2/ (stored 0%)\n",
            "updating: folder/Cluster2/15_14_s.jpg (deflated 1%)\n",
            "updating: folder/Cluster2/16_23_s.jpg (deflated 2%)\n",
            "updating: folder/Cluster2/15_23_s.jpg (deflated 1%)\n",
            "updating: folder/Cluster2/15_6_s.jpg (deflated 1%)\n",
            "updating: folder/Cluster2/15_15_s.jpg (deflated 2%)\n",
            "updating: folder/Cluster2/16_28_s.jpg (deflated 2%)\n",
            "updating: folder/Cluster2/16_10_s.jpg (deflated 1%)\n",
            "updating: folder/Cluster2/16_24_s.jpg (deflated 2%)\n",
            "updating: folder/Cluster2/16_18_s.jpg (deflated 2%)\n",
            "updating: folder/Cluster2/16_6_s.jpg (deflated 1%)\n",
            "updating: folder/Cluster2/15_18_s.jpg (deflated 1%)\n",
            "updating: folder/Cluster2/15_10_s.jpg (deflated 1%)\n",
            "updating: folder/Cluster2/16_11_s.jpg (deflated 1%)\n",
            "  adding: folder/Cluster3/16_19_s.jpg (deflated 1%)\n",
            "  adding: folder/Cluster3/15_7_s.jpg (deflated 1%)\n",
            "  adding: folder/Cluster3/15_8_s.jpg (deflated 1%)\n",
            "  adding: folder/Cluster3/16_4_s.jpg (deflated 1%)\n",
            "  adding: folder/Cluster3/16_9_s.jpg (deflated 1%)\n",
            "  adding: folder/Cluster3/16_3_s.jpg (deflated 1%)\n",
            "  adding: folder/Cluster3/16_25_s.jpg (deflated 2%)\n",
            "  adding: folder/Cluster3/15_3_s.jpg (deflated 1%)\n",
            "  adding: folder/Cluster3/15_12_s.jpg (deflated 1%)\n",
            "  adding: folder/Cluster3/16_15_s.jpg (deflated 1%)\n",
            "  adding: folder/Cluster3/16_5_s.jpg (deflated 1%)\n",
            "  adding: folder/Cluster3/16_8_s.jpg (deflated 1%)\n",
            "  adding: folder/Cluster3/16_16_s.jpg (deflated 1%)\n",
            "  adding: folder/Cluster3/16_7_s.jpg (deflated 1%)\n",
            "  adding: folder/Cluster3/16_17_s.jpg (deflated 1%)\n",
            "  adding: folder/Cluster3/15_9_s.jpg (deflated 1%)\n",
            "  adding: folder/Cluster3/16_20_s.jpg (deflated 2%)\n",
            "  adding: folder/Cluster1/15_2_s.jpg (deflated 2%)\n",
            "  adding: folder/Cluster1/16_14_s.jpg (deflated 1%)\n",
            "  adding: folder/Cluster1/15_24_s.jpg (deflated 1%)\n",
            "  adding: folder/Cluster1/16_2_s.jpg (deflated 1%)\n",
            "  adding: folder/Cluster1/15_13_s.jpg (deflated 2%)\n",
            "  adding: folder/Cluster1/16_13_s.jpg (deflated 1%)\n",
            "  adding: folder/Cluster1/15_11_s.jpg (deflated 1%)\n",
            "  adding: folder/Cluster1/15_21_s.jpg (deflated 1%)\n",
            "  adding: folder/Cluster1/16_29_s.jpg (deflated 1%)\n",
            "  adding: folder/Cluster1/15_17_s.jpg (deflated 1%)\n",
            "  adding: folder/Cluster1/15_4_s.jpg (deflated 1%)\n",
            "  adding: folder/Cluster1/16_21_s.jpg (deflated 2%)\n",
            "  adding: folder/Cluster1/16_12_s.jpg (deflated 1%)\n",
            "  adding: folder/Cluster1/16_1_s.jpg (deflated 1%)\n",
            "  adding: folder/Cluster1/15_16_s.jpg (deflated 2%)\n",
            "  adding: folder/Cluster1/15_5_s.jpg (deflated 1%)\n"
          ]
        }
      ]
    },
    {
      "cell_type": "code",
      "source": [
        ""
      ],
      "metadata": {
        "id": "-84stS6wxqZf"
      },
      "execution_count": null,
      "outputs": []
    }
  ]
}