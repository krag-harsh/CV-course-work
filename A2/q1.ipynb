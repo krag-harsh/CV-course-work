{
  "nbformat": 4,
  "nbformat_minor": 0,
  "metadata": {
    "colab": {
      "name": "2019423_q1.ipynb",
      "provenance": [],
      "collapsed_sections": []
    },
    "kernelspec": {
      "name": "python3",
      "display_name": "Python 3"
    },
    "language_info": {
      "name": "python"
    }
  },
  "cells": [
    {
      "cell_type": "code",
      "execution_count": 1,
      "metadata": {
        "id": "5t_6DgFcKbBF"
      },
      "outputs": [],
      "source": [
        "import cv2\n",
        "import os \n",
        "import numpy as np\n",
        "from skimage import filters "
      ]
    },
    {
      "cell_type": "code",
      "source": [
        "def eq1(img):   # implimentation of III B 1 of paper\n",
        "  t=filters.threshold_otsu(img)  # finding threshold usign otsu algo\n",
        "  flimage=np.ravel(img) # flattening the image\n",
        "  im1=[]  # creating two different array based on threshold\n",
        "  im2=[]\n",
        "  for v in flimage:\n",
        "    if(v<t):\n",
        "      im1.append(v)\n",
        "    else:\n",
        "      im2.append(v)\n",
        "\n",
        "  im1=np.array(im1)\n",
        "  im2=np.array(im2)\n",
        "  if(len(im1)==0 or len(im2)==0):\n",
        "    return 0\n",
        "  m1=np.mean(im1)  # finding mean, variance of the two images histogram\n",
        "  m2=np.mean(im2)\n",
        "  v1=np.sqrt(np.var(im1))\n",
        "  v2=np.sqrt(np.var(im2))\n",
        "  z2= v1**(-2) - v2**(-2)  # using the mean and variance to get the coefficent of the equation 4 of ppr\n",
        "  z1= -2* ( (m1/(v1*v1)) - (m2/(v2*v2)) )\n",
        "  c= (m1*m1)/(v1*v1) - (m2*m2)/(v2*v2) + 2*np.log(v1/v2)\n",
        "  coeff = [z2, z1, c]\n",
        "  z=np.roots(coeff)  # finding roots of the equation to get z(intersection point of two histogram)\n",
        "  fz=0\n",
        "  if(z[0]>0):\n",
        "    fz=z[0]\n",
        "  else:\n",
        "    fz=z[1]\n",
        "  fz=round(fz)  # taking the positive value of z storing in finalz(fz)\n",
        "  sum1=0  # for integration: which is essentially sum, summing based on the ondition given\n",
        "  sum2=0\n",
        "  for i in im2:\n",
        "    if(i<fz):\n",
        "      sum1+=1\n",
        "  for i in im1:\n",
        "    if(i>fz):\n",
        "      sum2+=1\n",
        "  gamma=255  # here number of bins were 255\n",
        "  lamda=sum1+sum2\n",
        "\n",
        "  quality= (1+np.log(1+gamma*lamda))**-1  # getting the final quality using the formula\n",
        "  return quality"
      ],
      "metadata": {
        "id": "h4f1X3pvQJ_a"
      },
      "execution_count": 2,
      "outputs": []
    },
    {
      "cell_type": "code",
      "source": [
        "def eq2(img):   # implimentation of III B 2 of paper\n",
        "  _, thresh = cv2.threshold(img,0,255,cv2.THRESH_BINARY+cv2.THRESH_OTSU)  # getting the threshold value \n",
        "  output = cv2.connectedComponentsWithStats(thresh, 4, cv2.CV_32S)  # using this function to get the connected component\n",
        "  stats = output[2]   # ouput contains stats of the connected component(have 5 element for each component)\n",
        "  numofcc=stats.shape[0]\n",
        "  if(numofcc==0):\n",
        "    return 1\n",
        "  areas=[]\n",
        "  for a in stats:\n",
        "    areas.append(a[4])  # last component in stat is the area of the connected component\n",
        "  max_val=max(areas)  # finding the max of the areas as given in equation\n",
        "  mindex=areas.index(max_val)\n",
        "  areas=np.array(areas)\n",
        "  totsum=np.sum(areas)\n",
        "  cu=max_val/totsum  # eq 8\n",
        "  finalquality= cu + ((1-cu)/numofcc)  # final equation 9\n",
        "  return finalquality\n"
      ],
      "metadata": {
        "id": "a15hx5ZLQ8dZ"
      },
      "execution_count": 3,
      "outputs": []
    },
    {
      "cell_type": "code",
      "source": [
        "# im1=\"a1.png\"\n",
        "# im2=\"a2.png\"\n",
        "im1=input(\"Enter path to image 1: \")  # asking user to enter path to the images for quality comparision\n",
        "im2=input(\"Enter path to image 2: \")\n",
        "img1 = cv2.imread(im1)\n",
        "img1 = cv2.cvtColor(img1,cv2.COLOR_BGR2GRAY)\n",
        "img2 = cv2.imread(im2)\n",
        "img2 = cv2.cvtColor(img2,cv2.COLOR_BGR2GRAY)\n",
        "# getting the qualities using the functions defined above(4 qualities in total)\n",
        "q11=eq1(img1)\n",
        "q12=eq2(img1)\n",
        "q21=eq1(img2)\n",
        "q22=eq2(img2)"
      ],
      "metadata": {
        "id": "v7uicEM7SBwS",
        "colab": {
          "base_uri": "https://localhost:8080/"
        },
        "outputId": "f6d520ae-6bb3-4f92-822f-fefbd7a92267"
      },
      "execution_count": 4,
      "outputs": [
        {
          "name": "stdout",
          "output_type": "stream",
          "text": [
            "Enter path to image 1: /content/cvone.PNG\n",
            "Enter path to image 2: /content/dlone.PNG\n"
          ]
        }
      ]
    },
    {
      "cell_type": "code",
      "source": [
        "print(\"Final quality scores:\",q11,q12,q21,q22)\n",
        "# comparing quality scores to predict the best image\n",
        "# choose alpha beta based:found that 2nd equation was doing better to find quality,therefore gave more weightage to it\n",
        "alpha=0.4\n",
        "beta=0.6\n",
        "fscore1= alpha*q11 + beta*q12\n",
        "fscore2= alpha*q21 + beta*q22\n",
        "if(fscore1>fscore2):\n",
        "  print(\"Image 1 have better quality\")\n",
        "elif(fscore1==fscore2):\n",
        "  print(\"Images have similar quality\")\n",
        "else:\n",
        "  print(\"Image 2 have better quality\")"
      ],
      "metadata": {
        "colab": {
          "base_uri": "https://localhost:8080/"
        },
        "id": "v2Ol50y2SfEL",
        "outputId": "eaf6c104-00a1-482d-c1f3-3fb3204c695c"
      },
      "execution_count": 5,
      "outputs": [
        {
          "output_type": "stream",
          "name": "stdout",
          "text": [
            "Final quality scores: 0.0714078888794851 0.8699067474459491 0.0801020614773078 0.8820716320716321\n",
            "Image 2 have better quality\n"
          ]
        }
      ]
    },
    {
      "cell_type": "code",
      "source": [
        ""
      ],
      "metadata": {
        "id": "mSb9hw-yx1Qb"
      },
      "execution_count": null,
      "outputs": []
    }
  ]
}