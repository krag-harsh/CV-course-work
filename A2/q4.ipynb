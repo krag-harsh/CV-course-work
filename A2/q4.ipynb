{
  "nbformat": 4,
  "nbformat_minor": 0,
  "metadata": {
    "colab": {
      "name": "2019423_q4.ipynb",
      "provenance": [],
      "collapsed_sections": []
    },
    "kernelspec": {
      "name": "python3",
      "display_name": "Python 3"
    },
    "language_info": {
      "name": "python"
    }
  },
  "cells": [
    {
      "cell_type": "code",
      "execution_count": 1,
      "metadata": {
        "id": "iDI6h16HP50L",
        "colab": {
          "base_uri": "https://localhost:8080/"
        },
        "outputId": "c4759330-7ca9-4b3f-ec5d-129957785123"
      },
      "outputs": [
        {
          "output_type": "stream",
          "name": "stdout",
          "text": [
            "Archive:  dd.zip\n",
            "   creating: dd/\n",
            "  inflating: dd/15_10_s.jpg          \n",
            "  inflating: dd/15_11_s.jpg          \n",
            "  inflating: dd/15_12_s.jpg          \n",
            "  inflating: dd/15_13_s.jpg          \n",
            "  inflating: dd/15_14_s.jpg          \n",
            "  inflating: dd/15_15_s.jpg          \n",
            "  inflating: dd/15_16_s.jpg          \n",
            "  inflating: dd/15_17_s.jpg          \n",
            "  inflating: dd/15_18_s.jpg          \n",
            "  inflating: dd/15_1_s.jpg           \n",
            "  inflating: dd/15_20_s.jpg          \n",
            "  inflating: dd/15_21_s.jpg          \n",
            "  inflating: dd/15_22_s.jpg          \n",
            "  inflating: dd/15_23_s.jpg          \n",
            "  inflating: dd/15_24_s.jpg          \n",
            "  inflating: dd/15_2_s.jpg           \n",
            "  inflating: dd/15_3_s.jpg           \n",
            "  inflating: dd/15_4_s.jpg           \n",
            "  inflating: dd/15_5_s.jpg           \n",
            "  inflating: dd/15_6_s.jpg           \n",
            "  inflating: dd/15_7_s.jpg           \n",
            "  inflating: dd/15_8_s.jpg           \n",
            "  inflating: dd/15_9_s.jpg           \n",
            "  inflating: dd/16_10_s.jpg          \n",
            "  inflating: dd/16_11_s.jpg          \n",
            "  inflating: dd/16_12_s.jpg          \n",
            "  inflating: dd/16_13_s.jpg          \n",
            "  inflating: dd/16_14_s.jpg          \n",
            "  inflating: dd/16_15_s.jpg          \n",
            "  inflating: dd/16_16_s.jpg          \n",
            "  inflating: dd/16_17_s.jpg          \n",
            "  inflating: dd/16_18_s.jpg          \n",
            "  inflating: dd/16_19_s.jpg          \n",
            "  inflating: dd/16_1_s.jpg           \n",
            "  inflating: dd/16_20_s.jpg          \n",
            "  inflating: dd/16_21_s.jpg          \n",
            "  inflating: dd/16_23_s.jpg          \n",
            "  inflating: dd/16_24_s.jpg          \n",
            "  inflating: dd/16_25_s.jpg          \n",
            "  inflating: dd/16_28_s.jpg          \n",
            "  inflating: dd/16_29_s.jpg          \n",
            "  inflating: dd/16_2_s.jpg           \n",
            "  inflating: dd/16_30_s.jpg          \n",
            "  inflating: dd/16_3_s.jpg           \n",
            "  inflating: dd/16_4_s.jpg           \n",
            "  inflating: dd/16_5_s.jpg           \n",
            "  inflating: dd/16_6_s.jpg           \n",
            "  inflating: dd/16_7_s.jpg           \n",
            "  inflating: dd/16_8_s.jpg           \n",
            "  inflating: dd/16_9_s.jpg           \n"
          ]
        }
      ],
      "source": [
        "# !unzip dd.zip"
      ]
    },
    {
      "cell_type": "code",
      "source": [
        "import cv2\n",
        "import os \n",
        "import numpy as np\n",
        "from skimage import feature\n",
        "from skimage.transform import resize\n",
        "import matplotlib.pyplot as plt\n",
        "\n",
        "# dir_images = \"dd/\"\n",
        "dir_images=input(\"Enter path to directory \")\n",
        "imgs = os.listdir(dir_images)  # getting list of all images inside the folder"
      ],
      "metadata": {
        "id": "QiYoKFdjR4v-",
        "colab": {
          "base_uri": "https://localhost:8080/"
        },
        "outputId": "6f589d0a-9389-4571-9336-c878e1e9c421"
      },
      "execution_count": 10,
      "outputs": [
        {
          "name": "stdout",
          "output_type": "stream",
          "text": [
            "Enter path to directory dd/\n"
          ]
        }
      ]
    },
    {
      "cell_type": "code",
      "source": [
        "def findfeatures(im):  # function to get the lbp features of the corner points\n",
        "  img = cv2.imread(im)\n",
        "  img = cv2.cvtColor(img,cv2.COLOR_BGR2GRAY)\n",
        "  corners = cv2.goodFeaturesToTrack(img, 100, 0.01, 10)  # taking 100 corner points\n",
        "  corners = np.int0(corners)  # getting teh corners points\n",
        "  lbp =feature.local_binary_pattern(img,10,4) # getting lbp feature for whole image\n",
        "  d=[]  # storing the features of the corner points\n",
        "  for c in corners:\n",
        "    d.append(lbp[c[0][1]][c[0][0]])\n",
        "  d=np.sort(np.array(d))  # sorting the values so that its easy to get teh distane betwene the images\n",
        "  return d"
      ],
      "metadata": {
        "id": "PzPi2s1Jl5FE"
      },
      "execution_count": 11,
      "outputs": []
    },
    {
      "cell_type": "code",
      "source": [
        "# k=4\n",
        "k=int(input(\"Enter k: \"))\n",
        "finallist=[]\n",
        "\n",
        "for im in imgs:\n",
        "  d=findfeatures(dir_images+im)\n",
        "  finallist.append(d)  # creating list of all the features\n",
        "  # break\n",
        "\n",
        "flist=np.array(finallist,dtype=object)"
      ],
      "metadata": {
        "id": "S545uKODSDTB",
        "colab": {
          "base_uri": "https://localhost:8080/"
        },
        "outputId": "19cda8f7-30cf-478d-8b49-aecccd9b7e47"
      },
      "execution_count": 12,
      "outputs": [
        {
          "name": "stdout",
          "output_type": "stream",
          "text": [
            "Enter k: 4\n"
          ]
        }
      ]
    },
    {
      "cell_type": "code",
      "source": [
        "# path=\"/content/15_19_s.jpg\"\n",
        "path=input(\"Enter path to the image: \")\n",
        "fvec=findfeatures(path)\n",
        "\n",
        "disvec=[]\n",
        "for i,f in enumerate(flist):\n",
        "  try:\n",
        "    dis=np.linalg.norm(fvec - f)  # getting the distance between the feature of the image and other images of the directory\n",
        "    disvec.append(dis)\n",
        "  except:\n",
        "    disvec.append(float('inf'))\n",
        "\n",
        "pos=np.argsort(disvec)  # getting the index of the sorted distances"
      ],
      "metadata": {
        "id": "Zfp7KTzdlWWg",
        "colab": {
          "base_uri": "https://localhost:8080/"
        },
        "outputId": "c422e7fe-04f0-4ced-d2ac-916aa0c60704"
      },
      "execution_count": 13,
      "outputs": [
        {
          "name": "stdout",
          "output_type": "stream",
          "text": [
            "Enter path to the image: /content/15_19_s.jpg\n"
          ]
        }
      ]
    },
    {
      "cell_type": "code",
      "source": [
        "print(\"The k nearest neighbour of the given image are:\")\n",
        "for i in range(k):\n",
        "  print(imgs[pos[i]])  # printing the name of the k nearest images from the dataset\n"
      ],
      "metadata": {
        "colab": {
          "base_uri": "https://localhost:8080/"
        },
        "id": "u1l96VtDobTG",
        "outputId": "4ac4a482-66ea-4808-f5b6-5b86742afac3"
      },
      "execution_count": 14,
      "outputs": [
        {
          "output_type": "stream",
          "name": "stdout",
          "text": [
            "The k nearest neighbour of the given image are:\n",
            "15_23_s.jpg\n",
            "15_5_s.jpg\n",
            "15_10_s.jpg\n",
            "16_29_s.jpg\n"
          ]
        }
      ]
    },
    {
      "cell_type": "code",
      "source": [
        ""
      ],
      "metadata": {
        "id": "P8vKs8nQoTzH"
      },
      "execution_count": null,
      "outputs": []
    }
  ]
}