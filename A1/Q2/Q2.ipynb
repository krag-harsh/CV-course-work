{
  "nbformat": 4,
  "nbformat_minor": 0,
  "metadata": {
    "colab": {
      "name": "Q2.ipynb",
      "provenance": [],
      "collapsed_sections": []
    },
    "kernelspec": {
      "name": "python3",
      "display_name": "Python 3"
    },
    "language_info": {
      "name": "python"
    }
  },
  "cells": [
    {
      "cell_type": "code",
      "execution_count": 1,
      "metadata": {
        "id": "QiPKmnN8k9YK"
      },
      "outputs": [],
      "source": [
        "# importing necessary libraries\n",
        "import cv2 \n",
        "import numpy as np\n",
        "import pandas as pd"
      ]
    },
    {
      "cell_type": "code",
      "source": [
        "# img = cv2.imread('leaf.png', cv2.IMREAD_GRAYSCALE)\n",
        "img = cv2.imread('horse.jpg', cv2.IMREAD_GRAYSCALE)  # reading the image as B&W\n",
        "or_shape=img.shape  # storing the shape of the image\n",
        "img_flat = np.reshape(img,(or_shape[0]*or_shape[1]))  # flatting the image"
      ],
      "metadata": {
        "id": "kLy2imKFoX-p"
      },
      "execution_count": 2,
      "outputs": []
    },
    {
      "cell_type": "code",
      "source": [
        "print(img_flat.shape)"
      ],
      "metadata": {
        "colab": {
          "base_uri": "https://localhost:8080/"
        },
        "id": "XHk42Y17pO1_",
        "outputId": "70fbad74-fd5f-4ffa-8dbe-0781888e624a"
      },
      "execution_count": 3,
      "outputs": [
        {
          "output_type": "stream",
          "name": "stdout",
          "text": [
            "(115344,)\n"
          ]
        }
      ]
    },
    {
      "cell_type": "code",
      "source": [
        "[H, r]= np.histogram(img,bins=256,range=(0,255))  # finding the histograms in 256 bins of the image data\n",
        "H = H/np.sum(H)  # normalising the histogram values"
      ],
      "metadata": {
        "id": "ad3G5yyKpWLh"
      },
      "execution_count": 4,
      "outputs": []
    },
    {
      "cell_type": "code",
      "source": [
        "def TSS(x):  # function to find the Total sum of squares \n",
        "  m=np.mean(x)  # finding the mean of the values of x\n",
        "  a=(x-m)**2\n",
        "  return a.sum()  # returning the final value\n",
        "\n",
        "data_csv=[]  # initialising for the CSV file, this will store the content of CSV file\n",
        "\n",
        "# maxv = -5\n",
        "minv=float('inf')\n",
        "thrv = -4\n",
        "for th in range(1,256):  # for each threshold values\n",
        "    v1=TSS(H[:th])\n",
        "    v2=TSS(H[th:])\n",
        "    val=v1+v2  # finding the TSS value\n",
        "    data_csv.append(val)  # storing them to the list\n",
        "    if minv > val:\n",
        "        minv = val\n",
        "        thrv = th\n",
        "\n",
        "\n",
        "print(\"Final Threshold value =\",thrv)\n",
        "# to store the values to the CSV file\n",
        "data_csv.append([\"Threashold value = \",thrv])\n",
        "data_csv=np.array(data_csv)\n",
        "DF = pd.DataFrame(data_csv)\n",
        "DF.to_csv(\"th_file_Q2.csv\")"
      ],
      "metadata": {
        "colab": {
          "base_uri": "https://localhost:8080/"
        },
        "id": "rI-CKBiyp51A",
        "outputId": "f2340f04-e5b9-4200-d1eb-0f80eb7e9868"
      },
      "execution_count": 5,
      "outputs": [
        {
          "output_type": "stream",
          "name": "stdout",
          "text": [
            "Final Threshold value = 197\n"
          ]
        },
        {
          "output_type": "stream",
          "name": "stderr",
          "text": [
            "/usr/local/lib/python3.7/dist-packages/ipykernel_launcher.py:24: VisibleDeprecationWarning: Creating an ndarray from ragged nested sequences (which is a list-or-tuple of lists-or-tuples-or ndarrays with different lengths or shapes) is deprecated. If you meant to do this, you must specify 'dtype=object' when creating the ndarray\n"
          ]
        }
      ]
    },
    {
      "cell_type": "code",
      "source": [
        "selection0 = np.zeros_like(img)  # create  a matrix with all 0\n",
        "selection1=np.ones_like(img)  # create a matrix with all 1\n",
        "\n",
        "# bin_mask=img>thrv\n",
        "bin_mask=img<thrv  # creating a binary mask based on the condition\n",
        "selection0[bin_mask] = selection1[bin_mask]  # make 1 at all position where the condition satisfied"
      ],
      "metadata": {
        "id": "XswCq01ltyEv"
      },
      "execution_count": 6,
      "outputs": []
    },
    {
      "cell_type": "code",
      "source": [
        "cv2.imwrite('outputQ2.png',selection0*255)  # to save, need to save from 0 to 255 range, therefore multiply by 255"
      ],
      "metadata": {
        "colab": {
          "base_uri": "https://localhost:8080/"
        },
        "id": "c0k4BpXousN_",
        "outputId": "964cb234-3f31-490a-e212-b1ef9c01d299"
      },
      "execution_count": 7,
      "outputs": [
        {
          "output_type": "execute_result",
          "data": {
            "text/plain": [
              "True"
            ]
          },
          "metadata": {},
          "execution_count": 7
        }
      ]
    }
  ]
}