{
  "nbformat": 4,
  "nbformat_minor": 0,
  "metadata": {
    "colab": {
      "name": "Q1.ipynb",
      "provenance": [],
      "collapsed_sections": []
    },
    "kernelspec": {
      "name": "python3",
      "display_name": "Python 3"
    },
    "language_info": {
      "name": "python"
    }
  },
  "cells": [
    {
      "cell_type": "code",
      "execution_count": 1,
      "metadata": {
        "id": "QiPKmnN8k9YK"
      },
      "outputs": [],
      "source": [
        "# importing necessary libraries\n",
        "import cv2 \n",
        "import numpy as np"
      ]
    },
    {
      "cell_type": "markdown",
      "source": [
        "Part 1(equation 3)"
      ],
      "metadata": {
        "id": "JFTSchVSybV0"
      }
    },
    {
      "cell_type": "code",
      "source": [
        "# used leaf85 as mentioned in question(produced using kmap)(used the code provided in lecture)\n",
        "im = cv2.imread('leaf85.png')  # reading the image\n",
        "orginal_shape=im.shape  # store the shape of original image"
      ],
      "metadata": {
        "id": "kLy2imKFoX-p"
      },
      "execution_count": 2,
      "outputs": []
    },
    {
      "cell_type": "code",
      "source": [
        "u_color,cnts=np.unique(im.reshape(-1, orginal_shape[2]), axis=0,return_counts=True)  # finding all the distinct colours and the counts of them"
      ],
      "metadata": {
        "id": "XHk42Y17pO1_"
      },
      "execution_count": 3,
      "outputs": []
    },
    {
      "cell_type": "code",
      "source": [
        "# function to find the distance between two colour\n",
        "def dis(c1, c2):\n",
        "  d= (c1[0]-c2[0])**2 + (c1[1]-c2[1])**2 + (c1[2]-c2[2])**2\n",
        "  return d"
      ],
      "metadata": {
        "id": "jG2dreljBTY7"
      },
      "execution_count": 4,
      "outputs": []
    },
    {
      "cell_type": "code",
      "source": [
        "freq=cnts/np.sum(cnts)  # normalising the frequencies as mentioned in equation\n",
        "saliency=[]  # creaating list that will store the final saliency values\n",
        "for dis_clr in u_color:  # for each distinct colour\n",
        "  d=[]\n",
        "  for v in u_color:  # finding the distance between that colour and all other colour and storing it as array\n",
        "    d.append(dis(v,dis_clr))\n",
        "  d=np.array(d)\n",
        "  saliency.append(np.sum(d*freq))    ## equation 3\n",
        "\n",
        "print(saliency)\n"
      ],
      "metadata": {
        "colab": {
          "base_uri": "https://localhost:8080/"
        },
        "id": "k6wpQEzLDrlp",
        "outputId": "14ca651e-ec63-41f6-f8e2-f6bc0fc57e62"
      },
      "execution_count": 5,
      "outputs": [
        {
          "output_type": "stream",
          "name": "stdout",
          "text": [
            "[57696.523616666665, 54568.722083333334, 55612.09763333334, 55784.78140000001, 47460.28521666667, 57608.29580000001, 56698.49999999999, 57891.33511666666, 59439.84270000001, 60604.429800000005, 52325.772816666664, 59703.4472, 60739.55913333335, 50258.785749999995, 60233.30755000001, 60118.84226666667, 71975.92603333332, 53511.203916666665, 54954.77353333334, 65575.70353333333, 54453.43175000001, 69214.37939999999, 71337.53435, 50532.76725, 66266.63101666667, 70076.56948333333, 68536.16901666667, 69277.57173333333, 48119.77485, 68586.39026666667, 71250.77436666665, 67593.81506666666, 65849.62741666666, 71736.42804999999, 48719.04543333333, 50407.22696666667, 70565.40901666666, 67437.46746666667, 49533.7526, 49028.13256666667, 46724.557, 63388.86196666667, 51638.190316666674, 48637.034250000004, 71619.63854999999, 48082.12663333333, 56747.47105000001, 49679.068100000004, 68058.1331, 53163.51818333333, 51818.36294999999, 52143.48455000001, 56280.06923333334, 59385.88345, 68099.34400000001, 55033.779116666665, 59485.037683333336, 62566.93318333333, 61600.29716666666, 63192.198399999994, 66951.48948333334, 81384.54338333335, 72348.74095, 68545.97053333335, 78661.12168333333, 86133.75740000002, 74846.1777, 80074.56696666668, 82480.03903333333, 82838.28488333336, 86647.8612, 83827.89373333333, 89175.7175, 94237.68173333333, 89644.46693333333, 92985.12426666668, 96912.24250000001, 96196.7836, 95688.75241666667, 97069.2057333333, 93587.11071666666, 88578.9069, 84503.12611666667, 77153.52695, 67402.96726666667]\n"
          ]
        },
        {
          "output_type": "stream",
          "name": "stderr",
          "text": [
            "/usr/local/lib/python3.7/dist-packages/ipykernel_launcher.py:2: RuntimeWarning: overflow encountered in ubyte_scalars\n",
            "  \n"
          ]
        }
      ]
    },
    {
      "cell_type": "code",
      "source": [
        "# the saliency values got are not in range of 0-255, bringing it to the required range\n",
        "saliency=np.array(saliency)\n",
        "ma=max(saliency)\n",
        "mi=min(saliency)\n",
        "saliency = 255*(saliency-mi)/(ma-mi)\n",
        "print(saliency.shape)"
      ],
      "metadata": {
        "colab": {
          "base_uri": "https://localhost:8080/"
        },
        "id": "8UVghMYqQYNm",
        "outputId": "cacaf476-c40b-497e-b94a-1f6b776175ac"
      },
      "execution_count": 6,
      "outputs": [
        {
          "output_type": "stream",
          "name": "stdout",
          "text": [
            "(85,)\n"
          ]
        }
      ]
    },
    {
      "cell_type": "code",
      "source": [
        "# Now creating an image, with the saliency value for the given RGB value\n",
        "new_shape=im.reshape(-1, orginal_shape[2])\n",
        "\n",
        "sal= np.zeros_like(new_shape)\n",
        "sal=np.sum(sal,axis=1)  # summing it for axis 1, so that [0,0,0] becomes 0 only. leaving image with single channel\n",
        "\n",
        "for i in range(len(saliency)):  # for every saliency value, go through every pixel and check the colour value, store the saliency value for it in new sal\n",
        "  [c1, c2 ,c3]=u_color[i]\n",
        "  s=saliency[i]\n",
        "  for j in range(len(sal)):\n",
        "    [p1,p2,p3]=new_shape[j]\n",
        "    if(c1==p1 and c2==p2 and c3==p3):  # check if the colour of pixel matches\n",
        "      sal[j]=s"
      ],
      "metadata": {
        "id": "FwE_uBZIKFcE"
      },
      "execution_count": 7,
      "outputs": []
    },
    {
      "cell_type": "code",
      "source": [
        "final_sal=sal.reshape(orginal_shape[0],orginal_shape[1])  # making to the required original image size"
      ],
      "metadata": {
        "id": "cacMjXLfNlDU"
      },
      "execution_count": 8,
      "outputs": []
    },
    {
      "cell_type": "code",
      "source": [
        "cv2.imwrite('output1Q1.png',final_sal) # saving the image as required"
      ],
      "metadata": {
        "colab": {
          "base_uri": "https://localhost:8080/"
        },
        "id": "0pU7tiv0P_XD",
        "outputId": "8886004e-4603-4330-f43a-8a3d17c60e88"
      },
      "execution_count": 9,
      "outputs": [
        {
          "output_type": "execute_result",
          "data": {
            "text/plain": [
              "True"
            ]
          },
          "metadata": {},
          "execution_count": 9
        }
      ]
    },
    {
      "cell_type": "markdown",
      "source": [
        "Part 2(equation 5)"
      ],
      "metadata": {
        "id": "EtfTp1DmrSQb"
      }
    },
    {
      "cell_type": "code",
      "source": [
        "# unzip the given zip, make few changes to get the seg_tree from the BigTree.jpg"
      ],
      "metadata": {
        "id": "0v1O9b461N5V"
      },
      "execution_count": null,
      "outputs": []
    },
    {
      "cell_type": "code",
      "source": [
        "!unzip pegbis.zip"
      ],
      "metadata": {
        "id": "HO_ZRYbfwGIZ",
        "colab": {
          "base_uri": "https://localhost:8080/"
        },
        "outputId": "70bd1708-05e9-4f56-b4e6-6d1c8029d4cd"
      },
      "execution_count": 10,
      "outputs": [
        {
          "output_type": "stream",
          "name": "stdout",
          "text": [
            "Archive:  pegbis.zip\n",
            "   creating: pegbis/\n",
            "   creating: pegbis/.git/\n",
            "   creating: pegbis/.git/branches/\n",
            "   creating: pegbis/.git/hooks/\n",
            "  inflating: pegbis/.git/hooks/update.sample  \n",
            "  inflating: pegbis/.git/hooks/pre-commit.sample  \n",
            "  inflating: pegbis/.git/hooks/applypatch-msg.sample  \n",
            "  inflating: pegbis/.git/hooks/pre-rebase.sample  \n",
            "  inflating: pegbis/.git/hooks/pre-merge-commit.sample  \n",
            "  inflating: pegbis/.git/hooks/pre-applypatch.sample  \n",
            "  inflating: pegbis/.git/hooks/pre-push.sample  \n",
            "  inflating: pegbis/.git/hooks/prepare-commit-msg.sample  \n",
            "  inflating: pegbis/.git/hooks/pre-receive.sample  \n",
            "  inflating: pegbis/.git/hooks/commit-msg.sample  \n",
            "  inflating: pegbis/.git/hooks/post-update.sample  \n",
            "  inflating: pegbis/.git/hooks/fsmonitor-watchman.sample  \n",
            "   creating: pegbis/.git/info/\n",
            "  inflating: pegbis/.git/info/exclude  \n",
            "  inflating: pegbis/.git/description  \n",
            "   creating: pegbis/.git/refs/\n",
            "   creating: pegbis/.git/refs/heads/\n",
            "  inflating: pegbis/.git/refs/heads/master  \n",
            "   creating: pegbis/.git/refs/tags/\n",
            "   creating: pegbis/.git/refs/remotes/\n",
            "   creating: pegbis/.git/refs/remotes/origin/\n",
            "  inflating: pegbis/.git/refs/remotes/origin/HEAD  \n",
            "  inflating: pegbis/.git/index       \n",
            "   creating: pegbis/.git/objects/\n",
            "   creating: pegbis/.git/objects/pack/\n",
            "   creating: pegbis/.git/objects/info/\n",
            "   creating: pegbis/.git/objects/df/\n",
            "  inflating: pegbis/.git/objects/df/2a099449113f2fed06c5513fce465b374695a5  \n",
            "   creating: pegbis/.git/objects/d0/\n",
            "  inflating: pegbis/.git/objects/d0/b01b1ec934cc6db9cc7837425f375fcc244ced  \n",
            "   creating: pegbis/.git/objects/d4/\n",
            "  inflating: pegbis/.git/objects/d4/90fbeac016f4548ddc625bca23facd2d59f3f3  \n",
            "   creating: pegbis/.git/objects/63/\n",
            "  inflating: pegbis/.git/objects/63/d3935c1082ceb05c3aa936462a5e2b73ff7c9f  \n",
            "   creating: pegbis/.git/objects/8b/\n",
            "  inflating: pegbis/.git/objects/8b/f0ae20289c9b091404dc528c8adeaacb59b878  \n",
            "  inflating: pegbis/.git/objects/8b/3ecdda0d09b0aee7bd9de495b8f79d3720a104  \n",
            "   creating: pegbis/.git/objects/a2/\n",
            "  inflating: pegbis/.git/objects/a2/18b3f749aad87abb7f58fc5b19b9ef1f8eb6de  \n",
            "   creating: pegbis/.git/objects/42/\n",
            "  inflating: pegbis/.git/objects/42/1db0910c44794524622499da0519f10c6d34df  \n",
            "   creating: pegbis/.git/objects/96/\n",
            "  inflating: pegbis/.git/objects/96/39d71caa2268ed20c3d441af58235069720622  \n",
            "   creating: pegbis/.git/objects/48/\n",
            "  inflating: pegbis/.git/objects/48/73577a8386aa1cfb6d806dc1ac6b236b1ddd2a  \n",
            "   creating: pegbis/.git/objects/ed/\n",
            "  inflating: pegbis/.git/objects/ed/bfc12203339912944ccf275481deaa550d2651  \n",
            "   creating: pegbis/.git/objects/81/\n",
            "  inflating: pegbis/.git/objects/81/8abe0609a2927eb335be821b41ef349e830040  \n",
            "   creating: pegbis/.git/objects/8e/\n",
            "  inflating: pegbis/.git/objects/8e/3d4fff14c73ed412bf128d7fc020405cb2641b  \n",
            "   creating: pegbis/.git/objects/b4/\n",
            "  inflating: pegbis/.git/objects/b4/a9618829e303a635dc14c408486b7fd71cf8d7  \n",
            "   creating: pegbis/.git/objects/30/\n",
            "  inflating: pegbis/.git/objects/30/f62546c97c4a5bd88619f3a14c3dd5f64878ce  \n",
            "   creating: pegbis/.git/objects/3b/\n",
            "  inflating: pegbis/.git/objects/3b/cf30c134a264f63c32268e5c632959b044bc88  \n",
            "  inflating: pegbis/.git/objects/3b/54bd907700e06bf0d3f8f3c14319b866c88c12  \n",
            "   creating: pegbis/.git/objects/c4/\n",
            "  inflating: pegbis/.git/objects/c4/2cad4c344c0bcc2e791ca2efc9e50de05f0638  \n",
            "   creating: pegbis/.git/objects/ec/\n",
            "  inflating: pegbis/.git/objects/ec/a931df8416992fa7eaede04799b8b33dd6e5df  \n",
            "   creating: pegbis/.git/objects/0a/\n",
            "  inflating: pegbis/.git/objects/0a/e5036a68160ace11e6232d91fc5bd612e743b8  \n",
            "   creating: pegbis/.git/objects/22/\n",
            "  inflating: pegbis/.git/objects/22/ce0de725d837fb1ba34ffd93d793c8201e0890  \n",
            "   creating: pegbis/.git/objects/87/\n",
            "  inflating: pegbis/.git/objects/87/1a4575dbd45dd238cf9825623278c463e90900  \n",
            "   creating: pegbis/.git/objects/dc/\n",
            "  inflating: pegbis/.git/objects/dc/25b9cd5be3c31b7791595f0c319ce4e28670d4  \n",
            "   creating: pegbis/.git/objects/a9/\n",
            "  inflating: pegbis/.git/objects/a9/f65c71388311b3425a44700a85137b5e744d2d  \n",
            "   creating: pegbis/.git/objects/84/\n",
            "  inflating: pegbis/.git/objects/84/610b641a9ad58fa18df30f4e45b0da6290fdfb  \n",
            "   creating: pegbis/.git/objects/1c/\n",
            "  inflating: pegbis/.git/objects/1c/797d844dc588da399713a7f5ee0b4c38c06d47  \n",
            "  inflating: pegbis/.git/config      \n",
            "  inflating: pegbis/.git/packed-refs  \n",
            "   creating: pegbis/.git/logs/\n",
            "   creating: pegbis/.git/logs/refs/\n",
            "   creating: pegbis/.git/logs/refs/remotes/\n",
            "   creating: pegbis/.git/logs/refs/remotes/origin/\n",
            "  inflating: pegbis/.git/logs/refs/remotes/origin/HEAD  \n",
            "   creating: pegbis/.git/logs/refs/heads/\n",
            "  inflating: pegbis/.git/logs/refs/heads/master  \n",
            "  inflating: pegbis/.git/logs/HEAD   \n",
            "  inflating: pegbis/.git/HEAD        \n",
            "  inflating: pegbis/README.md        \n",
            "   creating: pegbis/data/\n",
            "  inflating: pegbis/data/BigTree.jpg  \n",
            "  inflating: pegbis/data/bridge.jpg  \n",
            "  inflating: pegbis/data/paris.jpg   \n",
            "  inflating: pegbis/disjoint_set.py  \n",
            "  inflating: pegbis/filter.py        \n",
            "  inflating: pegbis/main.py          \n",
            "   creating: pegbis/results/\n",
            "  inflating: pegbis/results/results_1.png  \n",
            "  inflating: pegbis/results/results_2.png  \n",
            "  inflating: pegbis/results/results_3.png  \n",
            "  inflating: pegbis/results/results_4.png  \n",
            "  inflating: pegbis/results/results_5.png  \n",
            "  inflating: pegbis/segment_graph.py  \n",
            "   creating: pegbis/__pycache__/\n",
            "  inflating: pegbis/__pycache__/filter.cpython-39.pyc  \n",
            "  inflating: pegbis/__pycache__/segment_graph.cpython-39.pyc  \n",
            "  inflating: pegbis/__pycache__/disjoint_set.cpython-39.pyc  \n"
          ]
        }
      ]
    },
    {
      "cell_type": "code",
      "source": [
        "# change path to image in file main.py at line 102\n",
        "# make changes to save the segmented image\n",
        "# cv2.imwrite('seg_tree.png',segmented_image)\n",
        "# run the code"
      ],
      "metadata": {
        "id": "8-9ps29KcQ01"
      },
      "execution_count": 11,
      "outputs": []
    },
    {
      "cell_type": "code",
      "source": [
        "!python3 pegbis/main.py"
      ],
      "metadata": {
        "id": "vExYE3uyZold",
        "colab": {
          "base_uri": "https://localhost:8080/"
        },
        "outputId": "3a5ac3bc-b256-4f3f-c7df-80cc679cef96"
      },
      "execution_count": 12,
      "outputs": [
        {
          "output_type": "stream",
          "name": "stdout",
          "text": [
            "Loading is done.\n",
            "processing...\n",
            "Height:  482\n",
            "Width:   1024\n",
            "Execution time: 0 minute(s) and 43 seconds\n",
            "<Figure size 640x480 with 2 Axes>\n",
            "[[[  9   9   9]\n",
            "  [  9   9   9]\n",
            "  [  9   9   9]\n",
            "  ...\n",
            "  [213 213 213]\n",
            "  [213 213 213]\n",
            "  [213 213 213]]\n",
            "\n",
            " [[  9   9   9]\n",
            "  [  9   9   9]\n",
            "  [  9   9   9]\n",
            "  ...\n",
            "  [213 213 213]\n",
            "  [213 213 213]\n",
            "  [213 213 213]]\n",
            "\n",
            " [[  9   9   9]\n",
            "  [  9   9   9]\n",
            "  [  9   9   9]\n",
            "  ...\n",
            "  [213 213 213]\n",
            "  [213 213 213]\n",
            "  [213 213 213]]\n",
            "\n",
            " ...\n",
            "\n",
            " [[188 188 188]\n",
            "  [188 188 188]\n",
            "  [188 188 188]\n",
            "  ...\n",
            "  [188 188 188]\n",
            "  [188 188 188]\n",
            "  [188 188 188]]\n",
            "\n",
            " [[188 188 188]\n",
            "  [188 188 188]\n",
            "  [188 188 188]\n",
            "  ...\n",
            "  [188 188 188]\n",
            "  [188 188 188]\n",
            "  [188 188 188]]\n",
            "\n",
            " [[188 188 188]\n",
            "  [188 188 188]\n",
            "  [188 188 188]\n",
            "  ...\n",
            "  [188 188 188]\n",
            "  [188 188 188]\n",
            "  [188 188 188]]]\n"
          ]
        }
      ]
    },
    {
      "cell_type": "code",
      "source": [
        "im = cv2.imread('BigTree.jpg')\n",
        "im_seg= cv2.imread('seg_tree.png')\n",
        "orginal_shape=im.shape\n",
        "r_color,cnts=np.unique(im_seg.reshape(-1, orginal_shape[2]), axis=0,return_counts=True)"
      ],
      "metadata": {
        "id": "7YnF2mSdeC2y"
      },
      "execution_count": 13,
      "outputs": []
    },
    {
      "cell_type": "code",
      "source": [
        "print(r_color.shape)\n",
        "\n",
        "# need to store regions with all there colours and frequency\n",
        "REGIONS=[]\n",
        "for i in range(len(r_color)):\n",
        "  REGIONS.append([])\n",
        "\n",
        "# print(orginal_shape[0],orginal_shape[1], im[orginal_shape[0]-1][orginal_shape[1]-1])\n",
        "\n",
        "for i in range(orginal_shape[0]):\n",
        "  for j in range(orginal_shape[1]):\n",
        "    # for every pixel, check the colour with region colour, and store position for that region\n",
        "    [c1, c2 ,c3]=im_seg[i][j]\n",
        "    for r in range(len(r_color)):\n",
        "      [p1, p2 ,p3] = r_color[r]\n",
        "      if(c1==p1 and c2==p2 and c3==p3):\n",
        "        REGIONS[r].append(im[i][j])  # storing the colour for that region\n",
        "        break\n",
        "\n",
        "# store frequency of colours of each region,and also store each colour\n",
        "RFREQ=[]\n",
        "RDCLR=[]\n",
        "for r in range(len(r_color)):\n",
        "  te=np.array(REGIONS[r])\n",
        "  r_c,cs=np.unique(te, axis=0,return_counts=True)\n",
        "  cs=cs/np.sum(cs)\n",
        "  RFREQ.append(cs)\n",
        "  RDCLR.append(r_c)\n"
      ],
      "metadata": {
        "colab": {
          "base_uri": "https://localhost:8080/"
        },
        "id": "Xs06s_EufJ-q",
        "outputId": "a7b05a5b-4824-4b2f-e7a5-a3f5410b293b"
      },
      "execution_count": 14,
      "outputs": [
        {
          "output_type": "stream",
          "name": "stdout",
          "text": [
            "(63, 3)\n"
          ]
        }
      ]
    },
    {
      "cell_type": "code",
      "source": [
        "# distance between two colour(very slow, later did not used it)\n",
        "def dis(c1, c2):\n",
        "  d= (c1[0]-c2[0])**2 + (c1[1]-c2[1])**2 + (c1[2]-c2[2])**2\n",
        "  return d\n",
        "\n",
        "\n",
        "# function to find distance between two regions(equation 6)\n",
        "def dis_region(r1,r2):\n",
        "  s=[]\n",
        "  for i in range(len(RDCLR[r1])):\n",
        "    d=  RFREQ[r1][i] * RFREQ[r2] * np.sum((RDCLR[r1][i]-RDCLR[r2])**2,axis=1)\n",
        "    s.append(np.sum(d))\n",
        "  s=np.array(s)\n",
        "  return(np.sum(s))\n",
        "  # s=0\n",
        "  # for i in range(len(RDCLR[r1])):\n",
        "  #   for j in range(len(RDCLR[r2])):\n",
        "  #     s+= RFREQ[r1][i] * RFREQ[r2][j] * dis(RDCLR[r1][i],RDCLR[r2][j])\n",
        "  # return s\n",
        "\n",
        "# finding the frequency/normalising the counts of the regions(as stated in paper)\n",
        "freq=cnts/np.sum(cnts)\n",
        "\n",
        "saliency_r=[]  # this will store the final saliency values for each region\n",
        "for i in range(len(r_color)):\n",
        "  d=[]\n",
        "  for j in range(len(r_color)):\n",
        "    if(i!=j):\n",
        "      c=dis_region(i,j)  # calling the function to get the distance between the regions as stated in equation 6\n",
        "      d.append(c*freq[j])  ## EQUATION 5\n",
        "  d=np.array(d)\n",
        "  saliency_r.append(np.sum(d))\n",
        "    \n",
        "saliency_r=np.array(saliency_r)\n",
        "print(saliency_r)"
      ],
      "metadata": {
        "colab": {
          "base_uri": "https://localhost:8080/"
        },
        "id": "hRgsNfon9Wdu",
        "outputId": "f1fdefb7-f78e-4802-bc54-9ea0c9b17074"
      },
      "execution_count": 15,
      "outputs": [
        {
          "output_type": "stream",
          "name": "stdout",
          "text": [
            "[318.68145559 313.13035205 160.47468609 320.18150589 318.66282819\n",
            " 318.23347505 311.50405966 318.43931437 317.87922073 312.94116452\n",
            " 312.07236269 315.50300125 314.30954288 312.25203216 310.03889212\n",
            " 309.70483489 315.14731171 292.47550734 316.95636284 319.16872438\n",
            " 311.58024023 309.93985655 313.28888552 314.39542115 312.53479207\n",
            " 309.90826039 311.3821845  313.21360904 313.482307   316.30500708\n",
            " 317.03923818 311.89248499 319.17820323 317.13235309 315.43752399\n",
            " 315.40611793 292.37472227 318.08638179 310.83072694 312.57607155\n",
            " 317.12663159 316.85238809 315.33119518 310.41894781 316.81538758\n",
            " 306.54283399 317.8358726  251.32595522 318.31681634 295.32872974\n",
            " 230.84694512 305.62441549 315.2479048  309.2072475  271.02616895\n",
            " 315.86172444 317.59198621 315.81850601 312.8579082  301.69013768\n",
            " 315.53454393 312.79285024 322.07667069]\n"
          ]
        }
      ]
    },
    {
      "cell_type": "code",
      "source": [
        "# again bringing the values of saliency in the range 0-255\n",
        "ma=max(saliency_r)\n",
        "mi=min(saliency_r)\n",
        "saliency_r = 255*(saliency_r-mi)/(ma-mi)\n",
        "\n",
        "new_shape=im_seg.reshape(-1, orginal_shape[2])\n",
        "\n",
        "sal= np.zeros_like(new_shape)\n",
        "sal=np.sum(sal,axis=1)\n",
        "# repeating the steps as in part 1\n",
        "for i in range(len(saliency_r)):\n",
        "  [c1, c2 ,c3]=r_color[i]\n",
        "  s=saliency_r[i]\n",
        "  for j in range(len(sal)):\n",
        "    [p1,p2,p3]=new_shape[j]\n",
        "    if(c1==p1 and c2==p2 and c3==p3):\n",
        "      sal[j]=s\n",
        "\n",
        "final_sal=sal.reshape(orginal_shape[0],orginal_shape[1])\n",
        "cv2.imwrite('output2Q1.png',final_sal)  # saving the final saliency as image"
      ],
      "metadata": {
        "id": "LBTkO09XfUJP",
        "colab": {
          "base_uri": "https://localhost:8080/"
        },
        "outputId": "d330a6af-0d15-468e-e7d0-373cbd7bcc19"
      },
      "execution_count": 16,
      "outputs": [
        {
          "output_type": "execute_result",
          "data": {
            "text/plain": [
              "True"
            ]
          },
          "metadata": {},
          "execution_count": 16
        }
      ]
    },
    {
      "cell_type": "code",
      "source": [
        ""
      ],
      "metadata": {
        "id": "VxAbGBpibw5K"
      },
      "execution_count": null,
      "outputs": []
    }
  ]
}